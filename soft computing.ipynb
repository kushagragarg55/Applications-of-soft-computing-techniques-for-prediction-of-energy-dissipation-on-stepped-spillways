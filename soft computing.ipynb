{
 "cells": [
  {
   "cell_type": "code",
   "execution_count": 1,
   "metadata": {},
   "outputs": [
    {
     "name": "stderr",
     "output_type": "stream",
     "text": [
      "Using TensorFlow backend.\n"
     ]
    }
   ],
   "source": [
    "import numpy as np\n",
    "import matplotlib.pyplot as plt\n",
    "import pandas as pd\n",
    "import keras\n"
   ]
  },
  {
   "cell_type": "code",
   "execution_count": 2,
   "metadata": {},
   "outputs": [],
   "source": [
    "#Part1 : Collecting the data and pre-processing the data\n",
    "\n",
    "\n",
    "# Importing the dataset\n",
    "dataset = pd.read_csv('dataset.csv')\n",
    "\n",
    "#Storing the features of data in x\n",
    "x = dataset.iloc[:,2:7 ].values\n",
    "\n",
    "#Storing the energy dispatted(OE/E 0) of data in y\n",
    "y = dataset.iloc[:,1].values\n",
    "\n",
    "\n"
   ]
  },
  {
   "cell_type": "code",
   "execution_count": 3,
   "metadata": {},
   "outputs": [
    {
     "name": "stdout",
     "output_type": "stream",
     "text": [
      "(154, 5)\n",
      "[61.523 60.53  63.39  65.931 70.308 78.157 70.203 84.571 60.486 61.312\n",
      " 67.193 80.723 65.084 84.384 81.226 86.788 87.066 84.818 53.397 60.26\n",
      " 62.144 70.89  70.062 64.96  71.521 83.994 88.529 92.395 56.414 54.585\n",
      " 57.646 57.767 54.751 59.966 60.962 62.96  69.447 65.435 71.836 77.825\n",
      " 90.285 91.466 95.71  42.443 46.099 45.403 44.749 51.015 53.859 58.269\n",
      " 63.573 68.903 83.291 91.516 94.435 46.559 68.387 67.24  55.561 58.334\n",
      " 63.225 58.139 69.063 68.069 79.533 76.888 71.326 85.997 90.11  95.096\n",
      " 92.397 94.628 96.58  20.735 28.297 47.728 62.845 21.72  32.943 18.065\n",
      " 74.946 86.357 24.643 16.689 19.022 39.911 54.504 93.836 22.915 23.783\n",
      " 31.232 42.199 23.388 29.799 39.447 68.119 75.376 79.242 95.727 96.441\n",
      " 22.516 23.893 34.138 55.41  72.669 93.735 95.734 32.761 34.477 56.071\n",
      " 87.756 15.136 13.145 26.775 34.037 32.178 41.184 45.071 48.367 61.49\n",
      " 61.848 81.976 89.186 22.376 25.744 25.166 30.232 36.844 53.027 57.673\n",
      " 94.996 26.388 29.013 32.891 45.866 37.728 48.168 56.691 61.166 57.286\n",
      " 66.842 68.882 83.096 20.522 27.132 32.461 34.18  44.37  44.105 51.193\n",
      " 56.819 80.929 95.475 96.217]\n"
     ]
    }
   ],
   "source": [
    "print(x.shape)\n",
    "print(y)"
   ]
  },
  {
   "cell_type": "code",
   "execution_count": 4,
   "metadata": {},
   "outputs": [],
   "source": [
    "# Splitting the dataset into the Training set and Test set\n",
    "from sklearn.model_selection import train_test_split\n",
    "x_train, x_test, y_train, y_test = train_test_split(x, y, test_size = 0.2, random_state = 0)\n"
   ]
  },
  {
   "cell_type": "code",
   "execution_count": 5,
   "metadata": {},
   "outputs": [
    {
     "name": "stdout",
     "output_type": "stream",
     "text": [
      "(123, 5)\n"
     ]
    }
   ],
   "source": [
    "print(x_train.shape)"
   ]
  },
  {
   "cell_type": "code",
   "execution_count": 6,
   "metadata": {},
   "outputs": [],
   "source": [
    "# Feature Scaling\n",
    "from sklearn.preprocessing import StandardScaler\n",
    "sc = StandardScaler()\n",
    "x_train = sc.fit_transform(x_train)\n",
    "x_test = sc.transform(x_test)\n"
   ]
  },
  {
   "cell_type": "code",
   "execution_count": 7,
   "metadata": {},
   "outputs": [
    {
     "name": "stdout",
     "output_type": "stream",
     "text": [
      "WARNING:tensorflow:From E:\\anaconda\\lib\\site-packages\\keras\\backend\\tensorflow_backend.py:74: The name tf.get_default_graph is deprecated. Please use tf.compat.v1.get_default_graph instead.\n",
      "\n",
      "WARNING:tensorflow:From E:\\anaconda\\lib\\site-packages\\keras\\backend\\tensorflow_backend.py:517: The name tf.placeholder is deprecated. Please use tf.compat.v1.placeholder instead.\n",
      "\n"
     ]
    },
    {
     "name": "stderr",
     "output_type": "stream",
     "text": [
      "E:\\anaconda\\lib\\site-packages\\ipykernel_launcher.py:12: UserWarning: Update your `Dense` call to the Keras 2 API: `Dense(kernel_initializer=\"normal\", activation=\"relu\", input_dim=5, units=6)`\n",
      "  if sys.path[0] == '':\n"
     ]
    },
    {
     "name": "stdout",
     "output_type": "stream",
     "text": [
      "WARNING:tensorflow:From E:\\anaconda\\lib\\site-packages\\keras\\backend\\tensorflow_backend.py:4115: The name tf.random_normal is deprecated. Please use tf.random.normal instead.\n",
      "\n",
      "WARNING:tensorflow:From E:\\anaconda\\lib\\site-packages\\keras\\optimizers.py:790: The name tf.train.Optimizer is deprecated. Please use tf.compat.v1.train.Optimizer instead.\n",
      "\n"
     ]
    },
    {
     "name": "stderr",
     "output_type": "stream",
     "text": [
      "E:\\anaconda\\lib\\site-packages\\ipykernel_launcher.py:15: UserWarning: Update your `Dense` call to the Keras 2 API: `Dense(kernel_initializer=\"normal\", activation=\"relu\", units=6)`\n",
      "  from ipykernel import kernelapp as app\n",
      "E:\\anaconda\\lib\\site-packages\\ipykernel_launcher.py:18: UserWarning: Update your `Dense` call to the Keras 2 API: `Dense(kernel_initializer=\"normal\", activation=\"linear\", units=1)`\n",
      "E:\\anaconda\\lib\\site-packages\\ipykernel_launcher.py:26: UserWarning: The `nb_epoch` argument in `fit` has been renamed `epochs`.\n"
     ]
    },
    {
     "name": "stdout",
     "output_type": "stream",
     "text": [
      "WARNING:tensorflow:From E:\\anaconda\\lib\\site-packages\\keras\\backend\\tensorflow_backend.py:986: The name tf.assign_add is deprecated. Please use tf.compat.v1.assign_add instead.\n",
      "\n",
      "WARNING:tensorflow:From E:\\anaconda\\lib\\site-packages\\keras\\backend\\tensorflow_backend.py:973: The name tf.assign is deprecated. Please use tf.compat.v1.assign instead.\n",
      "\n",
      "Epoch 1/100\n",
      "123/123 [==============================] - 4s 32ms/step - loss: 59.7304 - mean_absolute_error: 59.7304\n",
      "Epoch 2/100\n",
      "123/123 [==============================] - 0s 350us/step - loss: 59.7135 - mean_absolute_error: 59.7135\n",
      "Epoch 3/100\n",
      "123/123 [==============================] - 0s 491us/step - loss: 59.6935 - mean_absolute_error: 59.6935\n",
      "Epoch 4/100\n",
      "123/123 [==============================] - 0s 228us/step - loss: 59.6691 - mean_absolute_error: 59.6691\n",
      "Epoch 5/100\n",
      "123/123 [==============================] - 0s 203us/step - loss: 59.6383 - mean_absolute_error: 59.6383\n",
      "Epoch 6/100\n",
      "123/123 [==============================] - 0s 190us/step - loss: 59.5988 - mean_absolute_error: 59.5988\n",
      "Epoch 7/100\n",
      "123/123 [==============================] - 0s 175us/step - loss: 59.5480 - mean_absolute_error: 59.5480\n",
      "Epoch 8/100\n",
      "123/123 [==============================] - 0s 186us/step - loss: 59.4815 - mean_absolute_error: 59.4815\n",
      "Epoch 9/100\n",
      "123/123 [==============================] - 0s 213us/step - loss: 59.3932 - mean_absolute_error: 59.3932\n",
      "Epoch 10/100\n",
      "123/123 [==============================] - 0s 221us/step - loss: 59.2784 - mean_absolute_error: 59.2784\n",
      "Epoch 11/100\n",
      "123/123 [==============================] - 0s 204us/step - loss: 59.1336 - mean_absolute_error: 59.1336\n",
      "Epoch 12/100\n",
      "123/123 [==============================] - 0s 239us/step - loss: 58.9505 - mean_absolute_error: 58.9505\n",
      "Epoch 13/100\n",
      "123/123 [==============================] - 0s 210us/step - loss: 58.7311 - mean_absolute_error: 58.7311\n",
      "Epoch 14/100\n",
      "123/123 [==============================] - 0s 193us/step - loss: 58.4632 - mean_absolute_error: 58.4632\n",
      "Epoch 15/100\n",
      "123/123 [==============================] - 0s 177us/step - loss: 58.1475 - mean_absolute_error: 58.1475\n",
      "Epoch 16/100\n",
      "123/123 [==============================] - 0s 210us/step - loss: 57.7847 - mean_absolute_error: 57.7847\n",
      "Epoch 17/100\n",
      "123/123 [==============================] - 0s 178us/step - loss: 57.3597 - mean_absolute_error: 57.3597\n",
      "Epoch 18/100\n",
      "123/123 [==============================] - 0s 211us/step - loss: 56.8791 - mean_absolute_error: 56.8791\n",
      "Epoch 19/100\n",
      "123/123 [==============================] - 0s 168us/step - loss: 56.3332 - mean_absolute_error: 56.3332\n",
      "Epoch 20/100\n",
      "123/123 [==============================] - 0s 232us/step - loss: 55.7234 - mean_absolute_error: 55.7234\n",
      "Epoch 21/100\n",
      "123/123 [==============================] - 0s 212us/step - loss: 55.0484 - mean_absolute_error: 55.0484\n",
      "Epoch 22/100\n",
      "123/123 [==============================] - 0s 180us/step - loss: 54.2809 - mean_absolute_error: 54.2809\n",
      "Epoch 23/100\n",
      "123/123 [==============================] - 0s 201us/step - loss: 53.4621 - mean_absolute_error: 53.4621\n",
      "Epoch 24/100\n",
      "123/123 [==============================] - 0s 196us/step - loss: 52.5416 - mean_absolute_error: 52.5416\n",
      "Epoch 25/100\n",
      "123/123 [==============================] - 0s 197us/step - loss: 51.5471 - mean_absolute_error: 51.5471\n",
      "Epoch 26/100\n",
      "123/123 [==============================] - 0s 297us/step - loss: 50.4542 - mean_absolute_error: 50.4542\n",
      "Epoch 27/100\n",
      "123/123 [==============================] - 0s 202us/step - loss: 49.2520 - mean_absolute_error: 49.2520\n",
      "Epoch 28/100\n",
      "123/123 [==============================] - 0s 219us/step - loss: 47.9933 - mean_absolute_error: 47.9933\n",
      "Epoch 29/100\n",
      "123/123 [==============================] - 0s 237us/step - loss: 46.6012 - mean_absolute_error: 46.6012\n",
      "Epoch 30/100\n",
      "123/123 [==============================] - 0s 235us/step - loss: 45.1179 - mean_absolute_error: 45.1179\n",
      "Epoch 31/100\n",
      "123/123 [==============================] - 0s 240us/step - loss: 43.5325 - mean_absolute_error: 43.5325\n",
      "Epoch 32/100\n",
      "123/123 [==============================] - 0s 175us/step - loss: 41.8867 - mean_absolute_error: 41.8867\n",
      "Epoch 33/100\n",
      "123/123 [==============================] - 0s 221us/step - loss: 40.1470 - mean_absolute_error: 40.1470\n",
      "Epoch 34/100\n",
      "123/123 [==============================] - 0s 237us/step - loss: 38.2864 - mean_absolute_error: 38.2864\n",
      "Epoch 35/100\n",
      "123/123 [==============================] - 0s 224us/step - loss: 36.3391 - mean_absolute_error: 36.3391\n",
      "Epoch 36/100\n",
      "123/123 [==============================] - 0s 153us/step - loss: 34.3567 - mean_absolute_error: 34.3567\n",
      "Epoch 37/100\n",
      "123/123 [==============================] - 0s 236us/step - loss: 32.3213 - mean_absolute_error: 32.3213\n",
      "Epoch 38/100\n",
      "123/123 [==============================] - 0s 120us/step - loss: 30.1763 - mean_absolute_error: 30.1763\n",
      "Epoch 39/100\n",
      "123/123 [==============================] - 0s 152us/step - loss: 28.0708 - mean_absolute_error: 28.0708\n",
      "Epoch 40/100\n",
      "123/123 [==============================] - 0s 198us/step - loss: 25.9164 - mean_absolute_error: 25.9164\n",
      "Epoch 41/100\n",
      "123/123 [==============================] - 0s 193us/step - loss: 23.7799 - mean_absolute_error: 23.7799\n",
      "Epoch 42/100\n",
      "123/123 [==============================] - 0s 221us/step - loss: 21.8664 - mean_absolute_error: 21.8664\n",
      "Epoch 43/100\n",
      "123/123 [==============================] - 0s 173us/step - loss: 20.1635 - mean_absolute_error: 20.1635\n",
      "Epoch 44/100\n",
      "123/123 [==============================] - 0s 257us/step - loss: 18.5476 - mean_absolute_error: 18.5476\n",
      "Epoch 45/100\n",
      "123/123 [==============================] - 0s 215us/step - loss: 17.3549 - mean_absolute_error: 17.3549\n",
      "Epoch 46/100\n",
      "123/123 [==============================] - 0s 222us/step - loss: 16.3538 - mean_absolute_error: 16.3538\n",
      "Epoch 47/100\n",
      "123/123 [==============================] - 0s 232us/step - loss: 15.6619 - mean_absolute_error: 15.6619\n",
      "Epoch 48/100\n",
      "123/123 [==============================] - 0s 189us/step - loss: 14.9991 - mean_absolute_error: 14.9991\n",
      "Epoch 49/100\n",
      "123/123 [==============================] - 0s 171us/step - loss: 14.4443 - mean_absolute_error: 14.4443\n",
      "Epoch 50/100\n",
      "123/123 [==============================] - 0s 179us/step - loss: 13.8375 - mean_absolute_error: 13.8375\n",
      "Epoch 51/100\n",
      "123/123 [==============================] - 0s 144us/step - loss: 13.3399 - mean_absolute_error: 13.3399\n",
      "Epoch 52/100\n",
      "123/123 [==============================] - 0s 179us/step - loss: 12.8482 - mean_absolute_error: 12.8482\n",
      "Epoch 53/100\n",
      "123/123 [==============================] - 0s 150us/step - loss: 12.4127 - mean_absolute_error: 12.4127\n",
      "Epoch 54/100\n",
      "123/123 [==============================] - 0s 241us/step - loss: 12.0124 - mean_absolute_error: 12.0124\n",
      "Epoch 55/100\n",
      "123/123 [==============================] - 0s 146us/step - loss: 11.6232 - mean_absolute_error: 11.6232\n",
      "Epoch 56/100\n",
      "123/123 [==============================] - 0s 378us/step - loss: 11.2598 - mean_absolute_error: 11.2598\n",
      "Epoch 57/100\n",
      "123/123 [==============================] - 0s 210us/step - loss: 10.9074 - mean_absolute_error: 10.9074\n",
      "Epoch 58/100\n",
      "123/123 [==============================] - 0s 203us/step - loss: 10.5933 - mean_absolute_error: 10.5933\n",
      "Epoch 59/100\n",
      "123/123 [==============================] - 0s 185us/step - loss: 10.2979 - mean_absolute_error: 10.2979\n",
      "Epoch 60/100\n",
      "123/123 [==============================] - 0s 139us/step - loss: 10.0183 - mean_absolute_error: 10.0183\n",
      "Epoch 61/100\n",
      "123/123 [==============================] - 0s 201us/step - loss: 9.7180 - mean_absolute_error: 9.7180\n",
      "Epoch 62/100\n",
      "123/123 [==============================] - 0s 144us/step - loss: 9.4455 - mean_absolute_error: 9.4455\n",
      "Epoch 63/100\n",
      "123/123 [==============================] - 0s 192us/step - loss: 9.1760 - mean_absolute_error: 9.1760\n",
      "Epoch 64/100\n",
      "123/123 [==============================] - 0s 169us/step - loss: 8.9279 - mean_absolute_error: 8.9279\n",
      "Epoch 65/100\n",
      "123/123 [==============================] - 0s 181us/step - loss: 8.6890 - mean_absolute_error: 8.6890\n",
      "Epoch 66/100\n",
      "123/123 [==============================] - 0s 143us/step - loss: 8.4724 - mean_absolute_error: 8.4724\n",
      "Epoch 67/100\n",
      "123/123 [==============================] - 0s 212us/step - loss: 8.2616 - mean_absolute_error: 8.2616\n",
      "Epoch 68/100\n"
     ]
    },
    {
     "name": "stdout",
     "output_type": "stream",
     "text": [
      "123/123 [==============================] - 0s 171us/step - loss: 8.0632 - mean_absolute_error: 8.0632\n",
      "Epoch 69/100\n",
      "123/123 [==============================] - 0s 166us/step - loss: 7.8775 - mean_absolute_error: 7.8775\n",
      "Epoch 70/100\n",
      "123/123 [==============================] - 0s 142us/step - loss: 7.6729 - mean_absolute_error: 7.6729\n",
      "Epoch 71/100\n",
      "123/123 [==============================] - 0s 181us/step - loss: 7.4687 - mean_absolute_error: 7.4687\n",
      "Epoch 72/100\n",
      "123/123 [==============================] - 0s 180us/step - loss: 7.2813 - mean_absolute_error: 7.2813\n",
      "Epoch 73/100\n",
      "123/123 [==============================] - 0s 201us/step - loss: 7.1244 - mean_absolute_error: 7.1244\n",
      "Epoch 74/100\n",
      "123/123 [==============================] - 0s 233us/step - loss: 6.9964 - mean_absolute_error: 6.9964\n",
      "Epoch 75/100\n",
      "123/123 [==============================] - 0s 202us/step - loss: 6.8646 - mean_absolute_error: 6.8646\n",
      "Epoch 76/100\n",
      "123/123 [==============================] - 1s 8ms/step - loss: 6.7223 - mean_absolute_error: 6.7223\n",
      "Epoch 77/100\n",
      "123/123 [==============================] - 0s 518us/step - loss: 6.5967 - mean_absolute_error: 6.5967\n",
      "Epoch 78/100\n",
      "123/123 [==============================] - 0s 257us/step - loss: 6.4927 - mean_absolute_error: 6.4927\n",
      "Epoch 79/100\n",
      "123/123 [==============================] - 0s 274us/step - loss: 6.3940 - mean_absolute_error: 6.3940\n",
      "Epoch 80/100\n",
      "123/123 [==============================] - 0s 241us/step - loss: 6.3156 - mean_absolute_error: 6.3156\n",
      "Epoch 81/100\n",
      "123/123 [==============================] - 0s 249us/step - loss: 6.2273 - mean_absolute_error: 6.2273\n",
      "Epoch 82/100\n",
      "123/123 [==============================] - 0s 239us/step - loss: 6.1656 - mean_absolute_error: 6.1656\n",
      "Epoch 83/100\n",
      "123/123 [==============================] - 0s 287us/step - loss: 6.0945 - mean_absolute_error: 6.0945\n",
      "Epoch 84/100\n",
      "123/123 [==============================] - 0s 204us/step - loss: 6.0521 - mean_absolute_error: 6.0521\n",
      "Epoch 85/100\n",
      "123/123 [==============================] - 0s 244us/step - loss: 5.9999 - mean_absolute_error: 5.9999\n",
      "Epoch 86/100\n",
      "123/123 [==============================] - 0s 267us/step - loss: 5.9557 - mean_absolute_error: 5.9557\n",
      "Epoch 87/100\n",
      "123/123 [==============================] - 0s 248us/step - loss: 5.9086 - mean_absolute_error: 5.9086\n",
      "Epoch 88/100\n",
      "123/123 [==============================] - 0s 208us/step - loss: 5.8734 - mean_absolute_error: 5.8734\n",
      "Epoch 89/100\n",
      "123/123 [==============================] - 0s 193us/step - loss: 5.8337 - mean_absolute_error: 5.8337\n",
      "Epoch 90/100\n",
      "123/123 [==============================] - 0s 169us/step - loss: 5.7899 - mean_absolute_error: 5.7899\n",
      "Epoch 91/100\n",
      "123/123 [==============================] - 0s 214us/step - loss: 5.7484 - mean_absolute_error: 5.7484\n",
      "Epoch 92/100\n",
      "123/123 [==============================] - 0s 167us/step - loss: 5.7057 - mean_absolute_error: 5.7057\n",
      "Epoch 93/100\n",
      "123/123 [==============================] - 0s 216us/step - loss: 5.6741 - mean_absolute_error: 5.6741\n",
      "Epoch 94/100\n",
      "123/123 [==============================] - 0s 191us/step - loss: 5.6405 - mean_absolute_error: 5.6405\n",
      "Epoch 95/100\n",
      "123/123 [==============================] - 0s 184us/step - loss: 5.6066 - mean_absolute_error: 5.6066\n",
      "Epoch 96/100\n",
      "123/123 [==============================] - 0s 189us/step - loss: 5.5713 - mean_absolute_error: 5.5713\n",
      "Epoch 97/100\n",
      "123/123 [==============================] - 0s 167us/step - loss: 5.5341 - mean_absolute_error: 5.5341\n",
      "Epoch 98/100\n",
      "123/123 [==============================] - 0s 211us/step - loss: 5.4987 - mean_absolute_error: 5.4987\n",
      "Epoch 99/100\n",
      "123/123 [==============================] - 0s 192us/step - loss: 5.5022 - mean_absolute_error: 5.5022\n",
      "Epoch 100/100\n",
      "123/123 [==============================] - 0s 132us/step - loss: 5.4399 - mean_absolute_error: 5.4399\n"
     ]
    },
    {
     "data": {
      "text/plain": [
       "<keras.callbacks.History at 0x1cef47cf888>"
      ]
     },
     "execution_count": 7,
     "metadata": {},
     "output_type": "execute_result"
    }
   ],
   "source": [
    "# Part 2 - Now let's make the ANN!\n",
    "\n",
    "# Importing the Keras libraries and packages\n",
    "from keras.models import Sequential\n",
    "from keras.layers import Dense\n",
    "\n",
    "# Initialising the ANN\n",
    "classifier = Sequential()\n",
    "\n",
    "\n",
    "# Adding the input layer  \n",
    "classifier.add(Dense(output_dim = 6,  kernel_initializer='normal', activation = 'relu', input_dim = x_train.shape[1]))\n",
    "\n",
    "# Adding the first hidden layer with 6nodes\n",
    "classifier.add(Dense(output_dim = 6, kernel_initializer='normal', activation = 'relu'))\n",
    "\n",
    "# Adding the output layer with one output of energy dispatted prediction\n",
    "classifier.add(Dense(output_dim = 1, kernel_initializer='normal', activation='linear'))\n",
    "\n",
    "\n",
    "# Compiling the ANN\n",
    "classifier.compile(loss='mean_absolute_error', optimizer='adam', metrics=['mean_absolute_error'])\n",
    "\n",
    "\n",
    "# Fitting the ANN to the Training set\n",
    "classifier.fit(x_train, y_train, batch_size = 10, nb_epoch = 100)\n"
   ]
  },
  {
   "cell_type": "code",
   "execution_count": 8,
   "metadata": {},
   "outputs": [
    {
     "name": "stdout",
     "output_type": "stream",
     "text": [
      "root mean square  error of test set :\n",
      "[6.387346]\n"
     ]
    }
   ],
   "source": [
    "# Part 3 - Making the predictions and evaluating the model\n",
    "\n",
    "# Predicting the Test set results\n",
    "y_pred = classifier.predict(x_test)\n",
    "\n",
    "# Calculating Root Mean Squares Error\n",
    "\n",
    "size=y_pred.shape[0];\n",
    "rmse = 0\n",
    "for i in range(size):\n",
    "    rmse += (y_test[i] - y_pred[i]) ** 2\n",
    "rmse = np.sqrt(rmse/size)\n",
    "print(\"root mean square  error of test set :\")\n",
    "print(rmse)"
   ]
  },
  {
   "cell_type": "code",
   "execution_count": 9,
   "metadata": {},
   "outputs": [
    {
     "data": {
      "image/png": "[encoded data removed]",
      "text/plain": [
       "<Figure size 432x288 with 1 Axes>"
      ]
     },
     "metadata": {
      "needs_background": "light"
     },
     "output_type": "display_data"
    }
   ],
   "source": [
    "\n",
    "arr = x_test[:,0].reshape(31,1)\n",
    "arr = np.append(arr,y_pred,axis=1)\n",
    "arr = np.append(arr,y_test.reshape(31,1),axis=1)\n",
    "arr = arr[arr[:,0].argsort()]\n",
    "plt.plot(arr[:,0],arr[:,2],label=\"Theoretical\")\n",
    "plt.plot(arr[:,0],arr[:,1],linestyle='--',label=\"predicted\")\n",
    "\n",
    "plt.ylabel('Predicted vs Theoretical value')\n",
    "plt.legend()\n",
    "plt.show()"
   ]
  }
 ],
 "metadata": {
  "kernelspec": {
   "display_name": "Python 3",
   "language": "python",
   "name": "python3"
  },
  "language_info": {
   "codemirror_mode": {
    "name": "ipython",
    "version": 3
   },
   "file_extension": ".py",
   "mimetype": "text/x-python",
   "name": "python",
   "nbconvert_exporter": "python",
   "pygments_lexer": "ipython3",
   "version": "3.7.4"
  }
 },
 "nbformat": 4,
 "nbformat_minor": 2
}
